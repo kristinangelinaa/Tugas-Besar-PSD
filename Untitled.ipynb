{
 "cells": [
  {
   "cell_type": "code",
   "execution_count": 3,
   "id": "7c645267",
   "metadata": {},
   "outputs": [],
   "source": [
    "import requests, bs4\n",
    "from selenium import webdriver\n",
    "from selenium.webdriver.common.by import By\n",
    "import pandas as pd\n",
    "import time, os\n",
    "from tqdm import tqdm"
   ]
  },
  {
   "cell_type": "code",
   "execution_count": 87,
   "id": "dd1e8587",
   "metadata": {},
   "outputs": [
    {
     "data": {
      "text/plain": [
       "\"\\nData Static\\n\\ndata = requets.get(URL)\\ndata.text\\n\\n=========\\n\\narray = [mangga, b, c, d] -> array[0] # Index-Based\\njson = { # Key-Value Based\\n    'buah':['mangga', 'jeruk', 'apel']\\n}\\njson['buah'] -> ['mangga', 'jeruk', {'key':'value'}]\\njson['buah'][0] -> 'mangga'\\njson['buah'][2]['key']\\n\""
      ]
     },
     "execution_count": 87,
     "metadata": {},
     "output_type": "execute_result"
    }
   ],
   "source": [
    "# Data Dynamis\n",
    "URL = 'https://www.youtube.com/results?search_query=pernikahan+kaesang'\n",
    "driver = webdriver.Chrome()\n",
    "driver.get(URL)\n",
    "\n",
    "'''\n",
    "Data Static\n",
    "\n",
    "data = requets.get(URL)\n",
    "data.text\n",
    "\n",
    "=========\n",
    "\n",
    "array = [mangga, b, c, d] -> array[0] # Index-Based\n",
    "json = { # Key-Value Based\n",
    "    'buah':['mangga', 'jeruk', 'apel']\n",
    "}\n",
    "json['buah'] -> ['mangga', 'jeruk', {'key':'value'}]\n",
    "json['buah'][0] -> 'mangga'\n",
    "json['buah'][2]['key']\n",
    "'''"
   ]
  },
  {
   "cell_type": "code",
   "execution_count": 88,
   "id": "136ba264",
   "metadata": {},
   "outputs": [],
   "source": [
    "soup = bs4.BeautifulSoup(driver.page_source)"
   ]
  },
  {
   "cell_type": "code",
   "execution_count": 90,
   "id": "fd68461a",
   "metadata": {},
   "outputs": [],
   "source": [
    "data = {\n",
    "    'Title':[],\n",
    "    'URL':[]\n",
    "}\n",
    "\n",
    "for yt in soup.find_all('ytd-video-renderer'):\n",
    "    tmp_title = yt.find('yt-formatted-string').text\n",
    "    tmp_url = yt.find('a')['href']\n",
    "    \n",
    "    data['Title'].append(tmp_title)\n",
    "    data['URL'].append(tmp_url)"
   ]
  },
  {
   "cell_type": "code",
   "execution_count": 96,
   "id": "272db844",
   "metadata": {
    "scrolled": true
   },
   "outputs": [
    {
     "data": {
      "text/html": [
       "<div>\n",
       "<style scoped>\n",
       "    .dataframe tbody tr th:only-of-type {\n",
       "        vertical-align: middle;\n",
       "    }\n",
       "\n",
       "    .dataframe tbody tr th {\n",
       "        vertical-align: top;\n",
       "    }\n",
       "\n",
       "    .dataframe thead th {\n",
       "        text-align: right;\n",
       "    }\n",
       "</style>\n",
       "<table border=\"1\" class=\"dataframe\">\n",
       "  <thead>\n",
       "    <tr style=\"text-align: right;\">\n",
       "      <th></th>\n",
       "      <th>Title</th>\n",
       "      <th>URL</th>\n",
       "    </tr>\n",
       "  </thead>\n",
       "  <tbody>\n",
       "    <tr>\n",
       "      <th>0</th>\n",
       "      <td>[FULL] Pernikahan Kaesang dan Erina | tvOne</td>\n",
       "      <td>https://www.youtube.com/watch?v=Ig_DGekytQI</td>\n",
       "    </tr>\n",
       "    <tr>\n",
       "      <th>1</th>\n",
       "      <td>Momen Lucu dan Viral Di Pernikahan Kaesang Pan...</td>\n",
       "      <td>https://www.youtube.com/watch?v=_8tjARGChUk</td>\n",
       "    </tr>\n",
       "    <tr>\n",
       "      <th>2</th>\n",
       "      <td>SAH! Kaesang - Erina Resmi Jadi Suami Istri, I...</td>\n",
       "      <td>https://www.youtube.com/watch?v=-64VKc0PuHo</td>\n",
       "    </tr>\n",
       "    <tr>\n",
       "      <th>3</th>\n",
       "      <td>[FULL] Prosesi Malam Midodareni Pernikahan Kae...</td>\n",
       "      <td>https://www.youtube.com/watch?v=dLUL-1uJRvg</td>\n",
       "    </tr>\n",
       "    <tr>\n",
       "      <th>4</th>\n",
       "      <td>KAPAN LAGI, MUKBANG DI NIKAHAN ANAK PRESIDEN ☺...</td>\n",
       "      <td>https://www.youtube.com/watch?v=R9DzYVWypvY</td>\n",
       "    </tr>\n",
       "    <tr>\n",
       "      <th>5</th>\n",
       "      <td>🔴 Live! Akad Nikah Kaesang &amp; Erina</td>\n",
       "      <td>https://www.youtube.com/watch?v=fw_CjubKxd4</td>\n",
       "    </tr>\n",
       "    <tr>\n",
       "      <th>6</th>\n",
       "      <td>SPECIAL REPORT - Prosesi Jokowi Ngunduh Mantu ...</td>\n",
       "      <td>https://www.youtube.com/watch?v=6Wq8TpDD8XY</td>\n",
       "    </tr>\n",
       "    <tr>\n",
       "      <th>7</th>\n",
       "      <td>SPECIAL REPORT - Sah! Kaesang &amp; Erina Resmi Me...</td>\n",
       "      <td>https://www.youtube.com/watch?v=qVs3QCOSf2o</td>\n",
       "    </tr>\n",
       "    <tr>\n",
       "      <th>8</th>\n",
       "      <td>Warga Menyemut Sambut Iring-Iringan Kirab Peng...</td>\n",
       "      <td>https://www.youtube.com/watch?v=ucN-r_t7oU0</td>\n",
       "    </tr>\n",
       "    <tr>\n",
       "      <th>9</th>\n",
       "      <td>Tempati Rumah Baru, Kaesang Dan Erina Gudono G...</td>\n",
       "      <td>https://www.youtube.com/watch?v=IFFJopzkgWE</td>\n",
       "    </tr>\n",
       "    <tr>\n",
       "      <th>10</th>\n",
       "      <td>Berani Lakukan Hal Ini❗ Erina Gudono Akan Dita...</td>\n",
       "      <td>https://www.youtube.com/watch?v=oTG-BxE5ZlI</td>\n",
       "    </tr>\n",
       "    <tr>\n",
       "      <th>11</th>\n",
       "      <td>Kedekatan Kaesang &amp; Pak Jokowi Yang Penuh Deng...</td>\n",
       "      <td>https://www.youtube.com/watch?v=hPvucqxTHCU</td>\n",
       "    </tr>\n",
       "    <tr>\n",
       "      <th>12</th>\n",
       "      <td>Spesial Keluarga Bapak Jokowi : Jan Ethes Bila...</td>\n",
       "      <td>https://www.youtube.com/watch?v=PEtuwZI70Dk</td>\n",
       "    </tr>\n",
       "    <tr>\n",
       "      <th>13</th>\n",
       "      <td>🔴 Live! Ngunduh Mantu dan Tasyakuran Pernikaha...</td>\n",
       "      <td>https://www.youtube.com/watch?v=_UBo_JpvUhc</td>\n",
       "    </tr>\n",
       "    <tr>\n",
       "      <th>14</th>\n",
       "      <td>SPECIAL REPORT - Prosesi Malam Midodareni Pern...</td>\n",
       "      <td>https://www.youtube.com/watch?v=vJF4Tskeuoc</td>\n",
       "    </tr>\n",
       "    <tr>\n",
       "      <th>15</th>\n",
       "      <td>EXCLUSIVE!!RAFFI NAGITA JADI SAKSI AKAD NIKAH ...</td>\n",
       "      <td>https://www.youtube.com/watch?v=QQo7vVkJo6I</td>\n",
       "    </tr>\n",
       "    <tr>\n",
       "      <th>16</th>\n",
       "      <td>🔴 LIVE: Prosesi Akad Nikah Kaesang Pangarep &amp; ...</td>\n",
       "      <td>https://www.youtube.com/watch?v=INfDl_e_KpM</td>\n",
       "    </tr>\n",
       "    <tr>\n",
       "      <th>17</th>\n",
       "      <td>SPECIAL REPORT - Resepsi Pernikahan Kaesang-Er...</td>\n",
       "      <td>https://www.youtube.com/watch?v=luMQyfFAU70</td>\n",
       "    </tr>\n",
       "    <tr>\n",
       "      <th>18</th>\n",
       "      <td>Prosesi Akad Nikah Kaesang &amp; Erina | SELEBRITA...</td>\n",
       "      <td>https://www.youtube.com/watch?v=48CZOXRRKAE</td>\n",
       "    </tr>\n",
       "    <tr>\n",
       "      <th>19</th>\n",
       "      <td>🔴 LIVE - Jokowi \"Ngunduh Mantu\", Kirab Pengant...</td>\n",
       "      <td>https://www.youtube.com/watch?v=rE8QX3vVNgg</td>\n",
       "    </tr>\n",
       "    <tr>\n",
       "      <th>20</th>\n",
       "      <td>Momen Lucu Al Nahyan Cucu Jokowi di Pernikahan...</td>\n",
       "      <td>https://www.youtube.com/watch?v=pP5uNAwA-E8</td>\n",
       "    </tr>\n",
       "    <tr>\n",
       "      <th>21</th>\n",
       "      <td>Sejumlah Selebritas Hadir Di Acara Akad Nikah ...</td>\n",
       "      <td>https://www.youtube.com/watch?v=sRcSl8KBWwA</td>\n",
       "    </tr>\n",
       "    <tr>\n",
       "      <th>22</th>\n",
       "      <td>Gemas!! Jan Ethes &amp; Sedah Mirah Membawakan Cin...</td>\n",
       "      <td>https://www.youtube.com/watch?v=CcGoPeRzntc</td>\n",
       "    </tr>\n",
       "    <tr>\n",
       "      <th>23</th>\n",
       "      <td>SPECIAL REPORT - Rangkaian Pernikahan Kaesang ...</td>\n",
       "      <td>https://www.youtube.com/watch?v=8Rw2A9XBS0A</td>\n",
       "    </tr>\n",
       "  </tbody>\n",
       "</table>\n",
       "</div>"
      ],
      "text/plain": [
       "                                                Title  \\\n",
       "0         [FULL] Pernikahan Kaesang dan Erina | tvOne   \n",
       "1   Momen Lucu dan Viral Di Pernikahan Kaesang Pan...   \n",
       "2   SAH! Kaesang - Erina Resmi Jadi Suami Istri, I...   \n",
       "3   [FULL] Prosesi Malam Midodareni Pernikahan Kae...   \n",
       "4   KAPAN LAGI, MUKBANG DI NIKAHAN ANAK PRESIDEN ☺...   \n",
       "5                  🔴 Live! Akad Nikah Kaesang & Erina   \n",
       "6   SPECIAL REPORT - Prosesi Jokowi Ngunduh Mantu ...   \n",
       "7   SPECIAL REPORT - Sah! Kaesang & Erina Resmi Me...   \n",
       "8   Warga Menyemut Sambut Iring-Iringan Kirab Peng...   \n",
       "9   Tempati Rumah Baru, Kaesang Dan Erina Gudono G...   \n",
       "10  Berani Lakukan Hal Ini❗ Erina Gudono Akan Dita...   \n",
       "11  Kedekatan Kaesang & Pak Jokowi Yang Penuh Deng...   \n",
       "12  Spesial Keluarga Bapak Jokowi : Jan Ethes Bila...   \n",
       "13  🔴 Live! Ngunduh Mantu dan Tasyakuran Pernikaha...   \n",
       "14  SPECIAL REPORT - Prosesi Malam Midodareni Pern...   \n",
       "15  EXCLUSIVE!!RAFFI NAGITA JADI SAKSI AKAD NIKAH ...   \n",
       "16  🔴 LIVE: Prosesi Akad Nikah Kaesang Pangarep & ...   \n",
       "17  SPECIAL REPORT - Resepsi Pernikahan Kaesang-Er...   \n",
       "18  Prosesi Akad Nikah Kaesang & Erina | SELEBRITA...   \n",
       "19  🔴 LIVE - Jokowi \"Ngunduh Mantu\", Kirab Pengant...   \n",
       "20  Momen Lucu Al Nahyan Cucu Jokowi di Pernikahan...   \n",
       "21  Sejumlah Selebritas Hadir Di Acara Akad Nikah ...   \n",
       "22  Gemas!! Jan Ethes & Sedah Mirah Membawakan Cin...   \n",
       "23  SPECIAL REPORT - Rangkaian Pernikahan Kaesang ...   \n",
       "\n",
       "                                            URL  \n",
       "0   https://www.youtube.com/watch?v=Ig_DGekytQI  \n",
       "1   https://www.youtube.com/watch?v=_8tjARGChUk  \n",
       "2   https://www.youtube.com/watch?v=-64VKc0PuHo  \n",
       "3   https://www.youtube.com/watch?v=dLUL-1uJRvg  \n",
       "4   https://www.youtube.com/watch?v=R9DzYVWypvY  \n",
       "5   https://www.youtube.com/watch?v=fw_CjubKxd4  \n",
       "6   https://www.youtube.com/watch?v=6Wq8TpDD8XY  \n",
       "7   https://www.youtube.com/watch?v=qVs3QCOSf2o  \n",
       "8   https://www.youtube.com/watch?v=ucN-r_t7oU0  \n",
       "9   https://www.youtube.com/watch?v=IFFJopzkgWE  \n",
       "10  https://www.youtube.com/watch?v=oTG-BxE5ZlI  \n",
       "11  https://www.youtube.com/watch?v=hPvucqxTHCU  \n",
       "12  https://www.youtube.com/watch?v=PEtuwZI70Dk  \n",
       "13  https://www.youtube.com/watch?v=_UBo_JpvUhc  \n",
       "14  https://www.youtube.com/watch?v=vJF4Tskeuoc  \n",
       "15  https://www.youtube.com/watch?v=QQo7vVkJo6I  \n",
       "16  https://www.youtube.com/watch?v=INfDl_e_KpM  \n",
       "17  https://www.youtube.com/watch?v=luMQyfFAU70  \n",
       "18  https://www.youtube.com/watch?v=48CZOXRRKAE  \n",
       "19  https://www.youtube.com/watch?v=rE8QX3vVNgg  \n",
       "20  https://www.youtube.com/watch?v=pP5uNAwA-E8  \n",
       "21  https://www.youtube.com/watch?v=sRcSl8KBWwA  \n",
       "22  https://www.youtube.com/watch?v=CcGoPeRzntc  \n",
       "23  https://www.youtube.com/watch?v=8Rw2A9XBS0A  "
      ]
     },
     "execution_count": 96,
     "metadata": {},
     "output_type": "execute_result"
    }
   ],
   "source": [
    "df = pd.DataFrame(data)\n",
    "df['URL'] = df['URL'].map(lambda x: 'https://www.youtube.com'+x)\n",
    "df"
   ]
  },
  {
   "cell_type": "code",
   "execution_count": null,
   "id": "d59ae7bc",
   "metadata": {},
   "outputs": [],
   "source": []
  },
  {
   "cell_type": "code",
   "execution_count": 147,
   "id": "bd7eefec",
   "metadata": {},
   "outputs": [
    {
     "name": "stderr",
     "output_type": "stream",
     "text": [
      "  3%|▎         | 8/250 [00:40<20:18,  5.03s/it]\n"
     ]
    },
    {
     "ename": "NoSuchWindowException",
     "evalue": "Message: no such window: target window already closed\nfrom unknown error: web view not found\n  (Session info: chrome=108.0.5359.125)\nStacktrace:\nBacktrace:\n\t(No symbol) [0x0054F243]\n\t(No symbol) [0x004D7FD1]\n\t(No symbol) [0x003CD04D]\n\t(No symbol) [0x003B2D7A]\n\t(No symbol) [0x0041BE7B]\n\t(No symbol) [0x0042C196]\n\t(No symbol) [0x00418386]\n\t(No symbol) [0x003F163C]\n\t(No symbol) [0x003F269D]\n\tGetHandleVerifier [0x007E9A22+2655074]\n\tGetHandleVerifier [0x007DCA24+2601828]\n\tGetHandleVerifier [0x005F8C0A+619850]\n\tGetHandleVerifier [0x005F7830+614768]\n\t(No symbol) [0x004E05FC]\n\t(No symbol) [0x004E5968]\n\t(No symbol) [0x004E5A55]\n\t(No symbol) [0x004F051B]\n\tBaseThreadInitThunk [0x76E76BD9+25]\n\tRtlGetFullPathName_UEx [0x77868FD2+1218]\n\tRtlGetFullPathName_UEx [0x77868F9D+1165]\n",
     "output_type": "error",
     "traceback": [
      "\u001b[1;31m---------------------------------------------------------------------------\u001b[0m",
      "\u001b[1;31mNoSuchWindowException\u001b[0m                     Traceback (most recent call last)",
      "Cell \u001b[1;32mIn[147], line 8\u001b[0m\n\u001b[0;32m      6\u001b[0m n \u001b[38;5;241m=\u001b[39m \u001b[38;5;241m250\u001b[39m\n\u001b[0;32m      7\u001b[0m \u001b[38;5;28;01mfor\u001b[39;00m i \u001b[38;5;129;01min\u001b[39;00m tqdm(\u001b[38;5;28mrange\u001b[39m(\u001b[38;5;241m1\u001b[39m, n\u001b[38;5;241m+\u001b[39m\u001b[38;5;241m1\u001b[39m)):\n\u001b[1;32m----> 8\u001b[0m     \u001b[43mdriver\u001b[49m\u001b[38;5;241;43m.\u001b[39;49m\u001b[43mexecute_script\u001b[49m\u001b[43m(\u001b[49m\u001b[38;5;124;43mf\u001b[39;49m\u001b[38;5;124;43m\"\u001b[39;49m\u001b[38;5;124;43mwindow.scrollTo(0, \u001b[39;49m\u001b[38;5;132;43;01m{\u001b[39;49;00m\u001b[38;5;241;43m10000\u001b[39;49m\u001b[38;5;241;43m*\u001b[39;49m\u001b[43mn\u001b[49m\u001b[38;5;132;43;01m}\u001b[39;49;00m\u001b[38;5;124;43m)\u001b[39;49m\u001b[38;5;124;43m\"\u001b[39;49m\u001b[43m)\u001b[49m\n\u001b[0;32m      9\u001b[0m     time\u001b[38;5;241m.\u001b[39msleep(\u001b[38;5;241m5\u001b[39m)\n",
      "File \u001b[1;32m~\\anaconda3\\envs\\uas\\lib\\site-packages\\selenium\\webdriver\\remote\\webdriver.py:506\u001b[0m, in \u001b[0;36mWebDriver.execute_script\u001b[1;34m(self, script, *args)\u001b[0m\n\u001b[0;32m    503\u001b[0m converted_args \u001b[38;5;241m=\u001b[39m \u001b[38;5;28mlist\u001b[39m(args)\n\u001b[0;32m    504\u001b[0m command \u001b[38;5;241m=\u001b[39m Command\u001b[38;5;241m.\u001b[39mW3C_EXECUTE_SCRIPT\n\u001b[1;32m--> 506\u001b[0m \u001b[38;5;28;01mreturn\u001b[39;00m \u001b[38;5;28;43mself\u001b[39;49m\u001b[38;5;241;43m.\u001b[39;49m\u001b[43mexecute\u001b[49m\u001b[43m(\u001b[49m\u001b[43mcommand\u001b[49m\u001b[43m,\u001b[49m\u001b[43m \u001b[49m\u001b[43m{\u001b[49m\u001b[38;5;124;43m\"\u001b[39;49m\u001b[38;5;124;43mscript\u001b[39;49m\u001b[38;5;124;43m\"\u001b[39;49m\u001b[43m:\u001b[49m\u001b[43m \u001b[49m\u001b[43mscript\u001b[49m\u001b[43m,\u001b[49m\u001b[43m \u001b[49m\u001b[38;5;124;43m\"\u001b[39;49m\u001b[38;5;124;43margs\u001b[39;49m\u001b[38;5;124;43m\"\u001b[39;49m\u001b[43m:\u001b[49m\u001b[43m \u001b[49m\u001b[43mconverted_args\u001b[49m\u001b[43m}\u001b[49m\u001b[43m)\u001b[49m[\u001b[38;5;124m\"\u001b[39m\u001b[38;5;124mvalue\u001b[39m\u001b[38;5;124m\"\u001b[39m]\n",
      "File \u001b[1;32m~\\anaconda3\\envs\\uas\\lib\\site-packages\\selenium\\webdriver\\remote\\webdriver.py:444\u001b[0m, in \u001b[0;36mWebDriver.execute\u001b[1;34m(self, driver_command, params)\u001b[0m\n\u001b[0;32m    442\u001b[0m response \u001b[38;5;241m=\u001b[39m \u001b[38;5;28mself\u001b[39m\u001b[38;5;241m.\u001b[39mcommand_executor\u001b[38;5;241m.\u001b[39mexecute(driver_command, params)\n\u001b[0;32m    443\u001b[0m \u001b[38;5;28;01mif\u001b[39;00m response:\n\u001b[1;32m--> 444\u001b[0m     \u001b[38;5;28;43mself\u001b[39;49m\u001b[38;5;241;43m.\u001b[39;49m\u001b[43merror_handler\u001b[49m\u001b[38;5;241;43m.\u001b[39;49m\u001b[43mcheck_response\u001b[49m\u001b[43m(\u001b[49m\u001b[43mresponse\u001b[49m\u001b[43m)\u001b[49m\n\u001b[0;32m    445\u001b[0m     response[\u001b[38;5;124m\"\u001b[39m\u001b[38;5;124mvalue\u001b[39m\u001b[38;5;124m\"\u001b[39m] \u001b[38;5;241m=\u001b[39m \u001b[38;5;28mself\u001b[39m\u001b[38;5;241m.\u001b[39m_unwrap_value(response\u001b[38;5;241m.\u001b[39mget(\u001b[38;5;124m\"\u001b[39m\u001b[38;5;124mvalue\u001b[39m\u001b[38;5;124m\"\u001b[39m, \u001b[38;5;28;01mNone\u001b[39;00m))\n\u001b[0;32m    446\u001b[0m     \u001b[38;5;28;01mreturn\u001b[39;00m response\n",
      "File \u001b[1;32m~\\anaconda3\\envs\\uas\\lib\\site-packages\\selenium\\webdriver\\remote\\errorhandler.py:249\u001b[0m, in \u001b[0;36mErrorHandler.check_response\u001b[1;34m(self, response)\u001b[0m\n\u001b[0;32m    247\u001b[0m         alert_text \u001b[38;5;241m=\u001b[39m value[\u001b[38;5;124m\"\u001b[39m\u001b[38;5;124malert\u001b[39m\u001b[38;5;124m\"\u001b[39m]\u001b[38;5;241m.\u001b[39mget(\u001b[38;5;124m\"\u001b[39m\u001b[38;5;124mtext\u001b[39m\u001b[38;5;124m\"\u001b[39m)\n\u001b[0;32m    248\u001b[0m     \u001b[38;5;28;01mraise\u001b[39;00m exception_class(message, screen, stacktrace, alert_text)  \u001b[38;5;66;03m# type: ignore[call-arg]  # mypy is not smart enough here\u001b[39;00m\n\u001b[1;32m--> 249\u001b[0m \u001b[38;5;28;01mraise\u001b[39;00m exception_class(message, screen, stacktrace)\n",
      "\u001b[1;31mNoSuchWindowException\u001b[0m: Message: no such window: target window already closed\nfrom unknown error: web view not found\n  (Session info: chrome=108.0.5359.125)\nStacktrace:\nBacktrace:\n\t(No symbol) [0x0054F243]\n\t(No symbol) [0x004D7FD1]\n\t(No symbol) [0x003CD04D]\n\t(No symbol) [0x003B2D7A]\n\t(No symbol) [0x0041BE7B]\n\t(No symbol) [0x0042C196]\n\t(No symbol) [0x00418386]\n\t(No symbol) [0x003F163C]\n\t(No symbol) [0x003F269D]\n\tGetHandleVerifier [0x007E9A22+2655074]\n\tGetHandleVerifier [0x007DCA24+2601828]\n\tGetHandleVerifier [0x005F8C0A+619850]\n\tGetHandleVerifier [0x005F7830+614768]\n\t(No symbol) [0x004E05FC]\n\t(No symbol) [0x004E5968]\n\t(No symbol) [0x004E5A55]\n\t(No symbol) [0x004F051B]\n\tBaseThreadInitThunk [0x76E76BD9+25]\n\tRtlGetFullPathName_UEx [0x77868FD2+1218]\n\tRtlGetFullPathName_UEx [0x77868F9D+1165]\n"
     ]
    }
   ],
   "source": [
    "# Data Dynamis\n",
    "\n",
    "URL = df['URL'][0]\n",
    "driver = webdriver.Chrome()\n",
    "driver.get(URL)\n",
    "n = 250\n",
    "for i in tqdm(range(1, n+1)):\n",
    "    driver.execute_script(f\"window.scrollTo(0, {10000*n})\")\n",
    "    time.sleep(5)\n",
    "   "
   ]
  },
  {
   "cell_type": "code",
   "execution_count": null,
   "id": "196f2fe1",
   "metadata": {},
   "outputs": [],
   "source": [
    "soup = bs4.BeautifulSoup(driver.page_source)\n",
    "comment = []\n",
    "for comment_section in soup.find_all('div', {'id':'contents'})[2].find_all('ytd-comment-thread-renderer'):\n",
    "    if comment_section.find('span', {'class':'style-scope yt-formatted-string'})!=None:\n",
    "        comment.append(comment_section.find('span', {'class':'style-scope yt-formatted-string'}).text)"
   ]
  },
  {
   "cell_type": "code",
   "execution_count": 160,
   "id": "f5cd8c92",
   "metadata": {},
   "outputs": [
    {
     "data": {
      "text/plain": [
       "array([None, None, None, None, None, None, None, None, None, None, None,\n",
       "       None, None, None, None, None, None, None, None, None, None, None,\n",
       "       None, None], dtype=object)"
      ]
     },
     "execution_count": 160,
     "metadata": {},
     "output_type": "execute_result"
    }
   ],
   "source": [
    "comment"
   ]
  },
  {
   "cell_type": "code",
   "execution_count": 168,
   "id": "7934d90d",
   "metadata": {
    "scrolled": true
   },
   "outputs": [
    {
     "data": {
      "text/html": [
       "<div>\n",
       "<style scoped>\n",
       "    .dataframe tbody tr th:only-of-type {\n",
       "        vertical-align: middle;\n",
       "    }\n",
       "\n",
       "    .dataframe tbody tr th {\n",
       "        vertical-align: top;\n",
       "    }\n",
       "\n",
       "    .dataframe thead th {\n",
       "        text-align: right;\n",
       "    }\n",
       "</style>\n",
       "<table border=\"1\" class=\"dataframe\">\n",
       "  <thead>\n",
       "    <tr style=\"text-align: right;\">\n",
       "      <th></th>\n",
       "      <th>Komen Utub</th>\n",
       "    </tr>\n",
       "  </thead>\n",
       "  <tbody>\n",
       "    <tr>\n",
       "      <th>0</th>\n",
       "      <td>Selamat Raden kaisang sama mbak Erina.. semuga...</td>\n",
       "    </tr>\n",
       "    <tr>\n",
       "      <th>1</th>\n",
       "      <td>Selamat menempuh hidup baru untuk mas Kaesang ...</td>\n",
       "    </tr>\n",
       "    <tr>\n",
       "      <th>2</th>\n",
       "      <td>Selamat menempuh Hidup Baru mas Kaesang dan mb...</td>\n",
       "    </tr>\n",
       "    <tr>\n",
       "      <th>3</th>\n",
       "      <td>Alhamdulillah sudah sah..</td>\n",
       "    </tr>\n",
       "    <tr>\n",
       "      <th>4</th>\n",
       "      <td>Baru kali ini gue melihat... Betapa Indah... M...</td>\n",
       "    </tr>\n",
       "    <tr>\n",
       "      <th>...</th>\n",
       "      <td>...</td>\n",
       "    </tr>\n",
       "    <tr>\n",
       "      <th>789</th>\n",
       "      <td>Semoga,ada dlm keadaanslmt melakukan sebuah ac...</td>\n",
       "    </tr>\n",
       "    <tr>\n",
       "      <th>790</th>\n",
       "      <td>selalu bahagia ya le ya, bu iriana aja msih m...</td>\n",
       "    </tr>\n",
       "    <tr>\n",
       "      <th>791</th>\n",
       "      <td>Pas Ulang Tahun saya</td>\n",
       "    </tr>\n",
       "    <tr>\n",
       "      <th>792</th>\n",
       "      <td>Pak de suka lupa sama nasehatnya sendiri....pa...</td>\n",
       "    </tr>\n",
       "    <tr>\n",
       "      <th>793</th>\n",
       "      <td>Keliatan banget tegang dan gugup padahal sudah...</td>\n",
       "    </tr>\n",
       "  </tbody>\n",
       "</table>\n",
       "<p>794 rows × 1 columns</p>\n",
       "</div>"
      ],
      "text/plain": [
       "                                            Komen Utub\n",
       "0    Selamat Raden kaisang sama mbak Erina.. semuga...\n",
       "1    Selamat menempuh hidup baru untuk mas Kaesang ...\n",
       "2    Selamat menempuh Hidup Baru mas Kaesang dan mb...\n",
       "3                           Alhamdulillah sudah sah.. \n",
       "4    Baru kali ini gue melihat... Betapa Indah... M...\n",
       "..                                                 ...\n",
       "789  Semoga,ada dlm keadaanslmt melakukan sebuah ac...\n",
       "790   selalu bahagia ya le ya, bu iriana aja msih m...\n",
       "791                              Pas Ulang Tahun saya \n",
       "792  Pak de suka lupa sama nasehatnya sendiri....pa...\n",
       "793  Keliatan banget tegang dan gugup padahal sudah...\n",
       "\n",
       "[794 rows x 1 columns]"
      ]
     },
     "execution_count": 168,
     "metadata": {},
     "output_type": "execute_result"
    }
   ],
   "source": [
    "import numpy as np\n",
    "\n",
    "# comment = []\n",
    "# for url in df['URL']:\n",
    "#     comment.append(fungsi(url))\n",
    "# comment = np.array(comment).reshape(-1)\n",
    "\n",
    "data = {'Komen Utub':sum(comment, [])}\n",
    "pd.DataFrame(data)"
   ]
  },
  {
   "cell_type": "code",
   "execution_count": null,
   "id": "002bf749",
   "metadata": {},
   "outputs": [],
   "source": []
  },
  {
   "cell_type": "code",
   "execution_count": 154,
   "id": "6c699f66",
   "metadata": {},
   "outputs": [
    {
     "name": "stderr",
     "output_type": "stream",
     "text": [
      "100%|██████████| 10/10 [00:50<00:00,  5.04s/it]\n",
      "100%|██████████| 10/10 [00:50<00:00,  5.03s/it]\n",
      "100%|██████████| 10/10 [00:50<00:00,  5.02s/it]\n",
      "100%|██████████| 10/10 [00:50<00:00,  5.03s/it]\n",
      "100%|██████████| 10/10 [00:50<00:00,  5.04s/it]\n"
     ]
    }
   ],
   "source": [
    "for i in range(5):\n",
    "    fungsi(df['URL'][i])"
   ]
  },
  {
   "cell_type": "code",
   "execution_count": 172,
   "id": "e21af6f4",
   "metadata": {},
   "outputs": [],
   "source": [
    "ds2 =pd.DataFrame({'Komen' : comment})"
   ]
  },
  {
   "cell_type": "code",
   "execution_count": 163,
   "id": "eedc76f3",
   "metadata": {},
   "outputs": [],
   "source": [
    "def fungsi(URL):\n",
    "    driver = webdriver.Chrome()\n",
    "    driver.get(URL)\n",
    "    n = 10\n",
    "    for i in tqdm(range(1, n+1)):\n",
    "        driver.execute_script(f\"window.scrollTo(0, {10000*n})\")\n",
    "        time.sleep(5)\n",
    "    soup = bs4.BeautifulSoup(driver.page_source)\n",
    "    comment = []\n",
    "    for comment_section in soup.find_all('div', {'id':'contents'})[2].find_all('ytd-comment-thread-renderer'):\n",
    "        if comment_section.find('span', {'class':'style-scope yt-formatted-string'})!=None:\n",
    "            comment.append(comment_section.find('span', {'class':'style-scope yt-formatted-string'}).text)\n",
    "    return comment\n",
    "    "
   ]
  },
  {
   "cell_type": "code",
   "execution_count": 184,
   "id": "7f60b2a5",
   "metadata": {},
   "outputs": [],
   "source": [
    "import string\n",
    "\n",
    "def remove_punctuation(s):\n",
    "    s = ''.join([i for i in s if i not in frozenset(string.punctuation)])\n",
    "    return s\n",
    "\n",
    "ds2['komen_new'] = ds2['Komen'].apply(remove_punctuation)"
   ]
  },
  {
   "cell_type": "code",
   "execution_count": 185,
   "id": "f865ea61",
   "metadata": {},
   "outputs": [
    {
     "data": {
      "text/html": [
       "<div>\n",
       "<style scoped>\n",
       "    .dataframe tbody tr th:only-of-type {\n",
       "        vertical-align: middle;\n",
       "    }\n",
       "\n",
       "    .dataframe tbody tr th {\n",
       "        vertical-align: top;\n",
       "    }\n",
       "\n",
       "    .dataframe thead th {\n",
       "        text-align: right;\n",
       "    }\n",
       "</style>\n",
       "<table border=\"1\" class=\"dataframe\">\n",
       "  <thead>\n",
       "    <tr style=\"text-align: right;\">\n",
       "      <th></th>\n",
       "      <th>Komen</th>\n",
       "      <th>comment_new</th>\n",
       "      <th>komen_new</th>\n",
       "    </tr>\n",
       "  </thead>\n",
       "  <tbody>\n",
       "    <tr>\n",
       "      <th>0</th>\n",
       "      <td>[Selamat Raden kaisang sama mbak Erina.. semug...</td>\n",
       "      <td>Selamat Raden kaisang sama mbak Erina.. semuga...</td>\n",
       "      <td>Selamat Raden kaisang sama mbak Erina.. semuga...</td>\n",
       "    </tr>\n",
       "    <tr>\n",
       "      <th>1</th>\n",
       "      <td>[Hanya bisa ikut bahagia dan mendoakan atas pe...</td>\n",
       "      <td>Hanya bisa ikut bahagia dan mendoakan atas per...</td>\n",
       "      <td>Hanya bisa ikut bahagia dan mendoakan atas per...</td>\n",
       "    </tr>\n",
       "    <tr>\n",
       "      <th>2</th>\n",
       "      <td>[Bismilah,semoga acaranya di berikan kelancara...</td>\n",
       "      <td>Bismilah,semoga acaranya di berikan kelancaran...</td>\n",
       "      <td>Bismilah,semoga acaranya di berikan kelancaran...</td>\n",
       "    </tr>\n",
       "    <tr>\n",
       "      <th>3</th>\n",
       "      <td>[Pinned by , Adat Jawa tulen sangat sakral dal...</td>\n",
       "      <td>Pinned by Adat Jawa tulen sangat sakral dalam ...</td>\n",
       "      <td>Pinned by Adat Jawa tulen sangat sakral dalam ...</td>\n",
       "    </tr>\n",
       "    <tr>\n",
       "      <th>4</th>\n",
       "      <td>[Pinned by , Terimakasih videonya Aa Irfan. Ja...</td>\n",
       "      <td>Pinned by Terimakasih videonya Aa Irfan. Jadi ...</td>\n",
       "      <td>Pinned by Terimakasih videonya Aa Irfan. Jadi ...</td>\n",
       "    </tr>\n",
       "    <tr>\n",
       "      <th>5</th>\n",
       "      <td>[Orang jawa jangan hilang jawanya !, Perpaduan...</td>\n",
       "      <td>Orang jawa jangan hilang jawanya !Perpaduan in...</td>\n",
       "      <td>Orang jawa jangan hilang jawanya !Perpaduan in...</td>\n",
       "    </tr>\n",
       "    <tr>\n",
       "      <th>6</th>\n",
       "      <td>[]</td>\n",
       "      <td></td>\n",
       "      <td></td>\n",
       "    </tr>\n",
       "    <tr>\n",
       "      <th>7</th>\n",
       "      <td>[]</td>\n",
       "      <td></td>\n",
       "      <td></td>\n",
       "    </tr>\n",
       "    <tr>\n",
       "      <th>8</th>\n",
       "      <td>[Keren, sebagai orang batak saya sangat suka d...</td>\n",
       "      <td>Keren, sebagai orang batak saya sangat suka da...</td>\n",
       "      <td>Keren, sebagai orang batak saya sangat suka da...</td>\n",
       "    </tr>\n",
       "    <tr>\n",
       "      <th>9</th>\n",
       "      <td>[Alhamdulilah semoga Samawa cepat di kasih mom...</td>\n",
       "      <td>Alhamdulilah semoga Samawa cepat di kasih momo...</td>\n",
       "      <td>Alhamdulilah semoga Samawa cepat di kasih momo...</td>\n",
       "    </tr>\n",
       "    <tr>\n",
       "      <th>10</th>\n",
       "      <td>[]</td>\n",
       "      <td></td>\n",
       "      <td></td>\n",
       "    </tr>\n",
       "    <tr>\n",
       "      <th>11</th>\n",
       "      <td>[Seperti layaknya hubungan antara ayah dan ana...</td>\n",
       "      <td>Seperti layaknya hubungan antara ayah dan anak...</td>\n",
       "      <td>Seperti layaknya hubungan antara ayah dan anak...</td>\n",
       "    </tr>\n",
       "    <tr>\n",
       "      <th>12</th>\n",
       "      <td>[Aaaaa mau diulang ulang juga masih gemes sama...</td>\n",
       "      <td>Aaaaa mau diulang ulang juga masih gemes sama ...</td>\n",
       "      <td>Aaaaa mau diulang ulang juga masih gemes sama ...</td>\n",
       "    </tr>\n",
       "    <tr>\n",
       "      <th>13</th>\n",
       "      <td>[Saya sangat bangga sebagai warga Jawa tengah ...</td>\n",
       "      <td>Saya sangat bangga sebagai warga Jawa tengah a...</td>\n",
       "      <td>Saya sangat bangga sebagai warga Jawa tengah a...</td>\n",
       "    </tr>\n",
       "    <tr>\n",
       "      <th>14</th>\n",
       "      <td>[Indonesian culture , Selamat berbahagia utk K...</td>\n",
       "      <td>Indonesian culture Selamat berbahagia utk Kaes...</td>\n",
       "      <td>Indonesian culture Selamat berbahagia utk Kaes...</td>\n",
       "    </tr>\n",
       "    <tr>\n",
       "      <th>15</th>\n",
       "      <td>[Happy wedding buat pengantin semoga sakinah m...</td>\n",
       "      <td>Happy wedding buat pengantin semoga sakinah ma...</td>\n",
       "      <td>Happy wedding buat pengantin semoga sakinah ma...</td>\n",
       "    </tr>\n",
       "    <tr>\n",
       "      <th>16</th>\n",
       "      <td>[Congratulations Kaesang and Erina, Survei Sta...</td>\n",
       "      <td>Congratulations Kaesang and ErinaSurvei Status...</td>\n",
       "      <td>Congratulations Kaesang and ErinaSurvei Status...</td>\n",
       "    </tr>\n",
       "    <tr>\n",
       "      <th>17</th>\n",
       "      <td>[️, Mas Kaesang mBelahh Duriann nGgak Ajak2 Re...</td>\n",
       "      <td>️Mas Kaesang mBelahh Duriann nGgak Ajak2 Rex.....</td>\n",
       "      <td>️Mas Kaesang mBelahh Duriann nGgak Ajak2 Rex.....</td>\n",
       "    </tr>\n",
       "    <tr>\n",
       "      <th>18</th>\n",
       "      <td>[Cantik banget mba Erina, anggun dg paes Jogya...</td>\n",
       "      <td>Cantik banget mba Erina, anggun dg paes Jogya....</td>\n",
       "      <td>Cantik banget mba Erina, anggun dg paes Jogya....</td>\n",
       "    </tr>\n",
       "    <tr>\n",
       "      <th>19</th>\n",
       "      <td>[]</td>\n",
       "      <td></td>\n",
       "      <td></td>\n",
       "    </tr>\n",
       "    <tr>\n",
       "      <th>20</th>\n",
       "      <td>[Itulah dunia anak anak yg sesungguhnya... Buk...</td>\n",
       "      <td>Itulah dunia anak anak yg sesungguhnya... Buka...</td>\n",
       "      <td>Itulah dunia anak anak yg sesungguhnya... Buka...</td>\n",
       "    </tr>\n",
       "    <tr>\n",
       "      <th>21</th>\n",
       "      <td>[Rafi dan Nagita pasangan serasi...., \\n]</td>\n",
       "      <td>Rafi dan Nagita pasangan serasi....\\n</td>\n",
       "      <td>Rafi dan Nagita pasangan serasi....\\n</td>\n",
       "    </tr>\n",
       "    <tr>\n",
       "      <th>22</th>\n",
       "      <td>[Semoga  pernikahan , Mas Nahyan, Mbak Lembah ...</td>\n",
       "      <td>Semoga  pernikahan Mas Nahyan, Mbak Lembah Man...</td>\n",
       "      <td>Semoga  pernikahan Mas Nahyan, Mbak Lembah Man...</td>\n",
       "    </tr>\n",
       "    <tr>\n",
       "      <th>23</th>\n",
       "      <td>[Semoga mas Kaesang dan mbak Erina menjadi kel...</td>\n",
       "      <td>Semoga mas Kaesang dan mbak Erina menjadi kelu...</td>\n",
       "      <td>Semoga mas Kaesang dan mbak Erina menjadi kelu...</td>\n",
       "    </tr>\n",
       "  </tbody>\n",
       "</table>\n",
       "</div>"
      ],
      "text/plain": [
       "                                                Komen  \\\n",
       "0   [Selamat Raden kaisang sama mbak Erina.. semug...   \n",
       "1   [Hanya bisa ikut bahagia dan mendoakan atas pe...   \n",
       "2   [Bismilah,semoga acaranya di berikan kelancara...   \n",
       "3   [Pinned by , Adat Jawa tulen sangat sakral dal...   \n",
       "4   [Pinned by , Terimakasih videonya Aa Irfan. Ja...   \n",
       "5   [Orang jawa jangan hilang jawanya !, Perpaduan...   \n",
       "6                                                  []   \n",
       "7                                                  []   \n",
       "8   [Keren, sebagai orang batak saya sangat suka d...   \n",
       "9   [Alhamdulilah semoga Samawa cepat di kasih mom...   \n",
       "10                                                 []   \n",
       "11  [Seperti layaknya hubungan antara ayah dan ana...   \n",
       "12  [Aaaaa mau diulang ulang juga masih gemes sama...   \n",
       "13  [Saya sangat bangga sebagai warga Jawa tengah ...   \n",
       "14  [Indonesian culture , Selamat berbahagia utk K...   \n",
       "15  [Happy wedding buat pengantin semoga sakinah m...   \n",
       "16  [Congratulations Kaesang and Erina, Survei Sta...   \n",
       "17  [️, Mas Kaesang mBelahh Duriann nGgak Ajak2 Re...   \n",
       "18  [Cantik banget mba Erina, anggun dg paes Jogya...   \n",
       "19                                                 []   \n",
       "20  [Itulah dunia anak anak yg sesungguhnya... Buk...   \n",
       "21          [Rafi dan Nagita pasangan serasi...., \\n]   \n",
       "22  [Semoga  pernikahan , Mas Nahyan, Mbak Lembah ...   \n",
       "23  [Semoga mas Kaesang dan mbak Erina menjadi kel...   \n",
       "\n",
       "                                          comment_new  \\\n",
       "0   Selamat Raden kaisang sama mbak Erina.. semuga...   \n",
       "1   Hanya bisa ikut bahagia dan mendoakan atas per...   \n",
       "2   Bismilah,semoga acaranya di berikan kelancaran...   \n",
       "3   Pinned by Adat Jawa tulen sangat sakral dalam ...   \n",
       "4   Pinned by Terimakasih videonya Aa Irfan. Jadi ...   \n",
       "5   Orang jawa jangan hilang jawanya !Perpaduan in...   \n",
       "6                                                       \n",
       "7                                                       \n",
       "8   Keren, sebagai orang batak saya sangat suka da...   \n",
       "9   Alhamdulilah semoga Samawa cepat di kasih momo...   \n",
       "10                                                      \n",
       "11  Seperti layaknya hubungan antara ayah dan anak...   \n",
       "12  Aaaaa mau diulang ulang juga masih gemes sama ...   \n",
       "13  Saya sangat bangga sebagai warga Jawa tengah a...   \n",
       "14  Indonesian culture Selamat berbahagia utk Kaes...   \n",
       "15  Happy wedding buat pengantin semoga sakinah ma...   \n",
       "16  Congratulations Kaesang and ErinaSurvei Status...   \n",
       "17  ️Mas Kaesang mBelahh Duriann nGgak Ajak2 Rex.....   \n",
       "18  Cantik banget mba Erina, anggun dg paes Jogya....   \n",
       "19                                                      \n",
       "20  Itulah dunia anak anak yg sesungguhnya... Buka...   \n",
       "21              Rafi dan Nagita pasangan serasi....\\n   \n",
       "22  Semoga  pernikahan Mas Nahyan, Mbak Lembah Man...   \n",
       "23  Semoga mas Kaesang dan mbak Erina menjadi kelu...   \n",
       "\n",
       "                                            komen_new  \n",
       "0   Selamat Raden kaisang sama mbak Erina.. semuga...  \n",
       "1   Hanya bisa ikut bahagia dan mendoakan atas per...  \n",
       "2   Bismilah,semoga acaranya di berikan kelancaran...  \n",
       "3   Pinned by Adat Jawa tulen sangat sakral dalam ...  \n",
       "4   Pinned by Terimakasih videonya Aa Irfan. Jadi ...  \n",
       "5   Orang jawa jangan hilang jawanya !Perpaduan in...  \n",
       "6                                                      \n",
       "7                                                      \n",
       "8   Keren, sebagai orang batak saya sangat suka da...  \n",
       "9   Alhamdulilah semoga Samawa cepat di kasih momo...  \n",
       "10                                                     \n",
       "11  Seperti layaknya hubungan antara ayah dan anak...  \n",
       "12  Aaaaa mau diulang ulang juga masih gemes sama ...  \n",
       "13  Saya sangat bangga sebagai warga Jawa tengah a...  \n",
       "14  Indonesian culture Selamat berbahagia utk Kaes...  \n",
       "15  Happy wedding buat pengantin semoga sakinah ma...  \n",
       "16  Congratulations Kaesang and ErinaSurvei Status...  \n",
       "17  ️Mas Kaesang mBelahh Duriann nGgak Ajak2 Rex.....  \n",
       "18  Cantik banget mba Erina, anggun dg paes Jogya....  \n",
       "19                                                     \n",
       "20  Itulah dunia anak anak yg sesungguhnya... Buka...  \n",
       "21              Rafi dan Nagita pasangan serasi....\\n  \n",
       "22  Semoga  pernikahan Mas Nahyan, Mbak Lembah Man...  \n",
       "23  Semoga mas Kaesang dan mbak Erina menjadi kelu...  "
      ]
     },
     "execution_count": 185,
     "metadata": {},
     "output_type": "execute_result"
    }
   ],
   "source": [
    "ds2"
   ]
  },
  {
   "cell_type": "code",
   "execution_count": 188,
   "id": "2d0b8ceb",
   "metadata": {},
   "outputs": [],
   "source": [
    "# saving the dataframe\n",
    "ds2.to_csv('komen_kaesang.csv')\n"
   ]
  },
  {
   "cell_type": "code",
   "execution_count": null,
   "id": "6bb7fe9c",
   "metadata": {},
   "outputs": [],
   "source": []
  },
  {
   "cell_type": "code",
   "execution_count": null,
   "id": "e657dd5f",
   "metadata": {},
   "outputs": [],
   "source": []
  },
  {
   "cell_type": "code",
   "execution_count": null,
   "id": "f62d262b",
   "metadata": {},
   "outputs": [],
   "source": []
  },
  {
   "cell_type": "code",
   "execution_count": null,
   "id": "baf3f500",
   "metadata": {},
   "outputs": [],
   "source": []
  },
  {
   "cell_type": "code",
   "execution_count": null,
   "id": "75a3f2f9",
   "metadata": {},
   "outputs": [],
   "source": []
  },
  {
   "cell_type": "code",
   "execution_count": null,
   "id": "25335065",
   "metadata": {},
   "outputs": [],
   "source": []
  },
  {
   "cell_type": "code",
   "execution_count": 6,
   "id": "b125ada1",
   "metadata": {},
   "outputs": [
    {
     "name": "stderr",
     "output_type": "stream",
     "text": [
      "[nltk_data] Downloading package stopwords to\n",
      "[nltk_data]     C:\\Users\\Zhafran\\AppData\\Roaming\\nltk_data...\n",
      "[nltk_data]   Package stopwords is already up-to-date!\n"
     ]
    }
   ],
   "source": [
    "import pandas as pd # data processing, CSV file I/O (e.g. pd.read_csv)\n",
    "import re, string, tqdm, os\n",
    "import nltk\n",
    "from nltk.corpus import stopwords, wordnet\n",
    "from nltk.stem.wordnet import WordNetLemmatizer\n",
    "import numpy as np\n",
    "from nlp_id.lemmatizer import Lemmatizer \n",
    "\n",
    "from multiprocessing import Pool\n",
    "nltk.download('stopwords')\n",
    "tqdm.tqdm.pandas()"
   ]
  },
  {
   "cell_type": "code",
   "execution_count": 13,
   "id": "c17fa776",
   "metadata": {},
   "outputs": [
    {
     "data": {
      "text/html": [
       "<div>\n",
       "<style scoped>\n",
       "    .dataframe tbody tr th:only-of-type {\n",
       "        vertical-align: middle;\n",
       "    }\n",
       "\n",
       "    .dataframe tbody tr th {\n",
       "        vertical-align: top;\n",
       "    }\n",
       "\n",
       "    .dataframe thead th {\n",
       "        text-align: right;\n",
       "    }\n",
       "</style>\n",
       "<table border=\"1\" class=\"dataframe\">\n",
       "  <thead>\n",
       "    <tr style=\"text-align: right;\">\n",
       "      <th></th>\n",
       "      <th>komen_new</th>\n",
       "    </tr>\n",
       "  </thead>\n",
       "  <tbody>\n",
       "    <tr>\n",
       "      <th>0</th>\n",
       "      <td>Selamat Raden kaisang sama mbak Erina.. semuga...</td>\n",
       "    </tr>\n",
       "    <tr>\n",
       "      <th>1</th>\n",
       "      <td>Hanya bisa ikut bahagia dan mendoakan atas per...</td>\n",
       "    </tr>\n",
       "    <tr>\n",
       "      <th>2</th>\n",
       "      <td>Bismilah,semoga acaranya di berikan kelancaran...</td>\n",
       "    </tr>\n",
       "    <tr>\n",
       "      <th>3</th>\n",
       "      <td>Pinned by Adat Jawa tulen sangat sakral dalam ...</td>\n",
       "    </tr>\n",
       "    <tr>\n",
       "      <th>4</th>\n",
       "      <td>Pinned by Terimakasih videonya Aa Irfan. Jadi ...</td>\n",
       "    </tr>\n",
       "  </tbody>\n",
       "</table>\n",
       "</div>"
      ],
      "text/plain": [
       "                                           komen_new\n",
       "0  Selamat Raden kaisang sama mbak Erina.. semuga...\n",
       "1  Hanya bisa ikut bahagia dan mendoakan atas per...\n",
       "2  Bismilah,semoga acaranya di berikan kelancaran...\n",
       "3  Pinned by Adat Jawa tulen sangat sakral dalam ...\n",
       "4  Pinned by Terimakasih videonya Aa Irfan. Jadi ..."
      ]
     },
     "execution_count": 13,
     "metadata": {},
     "output_type": "execute_result"
    }
   ],
   "source": [
    "df = pd.read_csv('komen_kaesang.csv.xls')\n",
    "df = df.drop(columns='Unnamed: 0')\n",
    "df = df[['komen_new']]\n",
    "df.dropna(inplace=True)\n",
    "df.head()"
   ]
  },
  {
   "cell_type": "code",
   "execution_count": 14,
   "id": "658c875d",
   "metadata": {},
   "outputs": [
    {
     "name": "stderr",
     "output_type": "stream",
     "text": [
      "100%|██████████| 20/20 [00:00<00:00, 1701.06it/s]\n"
     ]
    }
   ],
   "source": [
    "def text_cleaning(x):\n",
    "    x = x.lower()\n",
    "    punct = string.punctuation \n",
    "    cleaned_x = ''\n",
    "    for char in x:\n",
    "        if char not in punct:\n",
    "            cleaned_x = cleaned_x + char\n",
    "\n",
    "    return cleaned_x\n",
    "\n",
    "df['komen_new_clean'] = df['komen_new'].progress_apply(lambda x: text_cleaning(x))"
   ]
  },
  {
   "cell_type": "code",
   "execution_count": 15,
   "id": "d9ed99cb",
   "metadata": {},
   "outputs": [
    {
     "name": "stderr",
     "output_type": "stream",
     "text": [
      "100%|██████████| 20/20 [00:00<00:00, 4253.64it/s]\n"
     ]
    }
   ],
   "source": [
    "def tokenize(x):\n",
    "    x = x.split(' ')\n",
    "\n",
    "    while '' in x:\n",
    "        x.remove('')\n",
    " \n",
    "    return x\n",
    "\n",
    "df['komen_new_clean_tokenized'] = df['komen_new_clean'].progress_apply(lambda x: tokenize(x))"
   ]
  },
  {
   "cell_type": "code",
   "execution_count": 16,
   "id": "6b885e5f",
   "metadata": {},
   "outputs": [
    {
     "name": "stderr",
     "output_type": "stream",
     "text": [
      "100%|██████████| 20/20 [00:00<00:00, 245.76it/s]\n"
     ]
    }
   ],
   "source": [
    "stop_words = list(stopwords.words('indonesian'))\n",
    "def remove_stopword(x):\n",
    "    filtered_sentence = []\n",
    "    for word in x:\n",
    "        if word not in stop_words:\n",
    "            filtered_sentence.append(word)\n",
    "\n",
    "    return filtered_sentence\n",
    "\n",
    "df['komen_new_clean_tokenized_stopword'] = df['komen_new_clean_tokenized'].progress_apply(lambda x: remove_stopword(x))"
   ]
  },
  {
   "cell_type": "code",
   "execution_count": 17,
   "id": "1aa06e15",
   "metadata": {},
   "outputs": [
    {
     "name": "stderr",
     "output_type": "stream",
     "text": [
      "100%|██████████| 20/20 [00:11<00:00,  1.77it/s]\n"
     ]
    }
   ],
   "source": [
    "def text_lemmatizer(x):\n",
    "    lemmatizer = Lemmatizer() \n",
    "    return lemmatizer.lemmatize(' '.join(x)) \n",
    "\n",
    "df['komen_new_clean_tokenized_stopword_lemmatized'] = df['komen_new_clean_tokenized_stopword'].progress_apply(lambda x: text_lemmatizer(x))"
   ]
  },
  {
   "cell_type": "code",
   "execution_count": 22,
   "id": "18acb48f",
   "metadata": {},
   "outputs": [
    {
     "data": {
      "text/html": [
       "<div>\n",
       "<style scoped>\n",
       "    .dataframe tbody tr th:only-of-type {\n",
       "        vertical-align: middle;\n",
       "    }\n",
       "\n",
       "    .dataframe tbody tr th {\n",
       "        vertical-align: top;\n",
       "    }\n",
       "\n",
       "    .dataframe thead th {\n",
       "        text-align: right;\n",
       "    }\n",
       "</style>\n",
       "<table border=\"1\" class=\"dataframe\">\n",
       "  <thead>\n",
       "    <tr style=\"text-align: right;\">\n",
       "      <th></th>\n",
       "      <th>komen_new</th>\n",
       "      <th>komen_new_clean</th>\n",
       "      <th>komen_new_clean_tokenized</th>\n",
       "      <th>komen_new_clean_tokenized_stopword</th>\n",
       "      <th>komen_new_clean_tokenized_stopword_lemmatized</th>\n",
       "    </tr>\n",
       "  </thead>\n",
       "  <tbody>\n",
       "    <tr>\n",
       "      <th>0</th>\n",
       "      <td>Selamat Raden kaisang sama mbak Erina.. semuga...</td>\n",
       "      <td>selamat raden kaisang sama mbak erina semuga c...</td>\n",
       "      <td>[selamat, raden, kaisang, sama, mbak, erina, s...</td>\n",
       "      <td>[selamat, raden, kaisang, mbak, erina, semuga,...</td>\n",
       "      <td>selamat raden kaisang mbak erina semuga cepat ...</td>\n",
       "    </tr>\n",
       "    <tr>\n",
       "      <th>1</th>\n",
       "      <td>Hanya bisa ikut bahagia dan mendoakan atas per...</td>\n",
       "      <td>hanya bisa ikut bahagia dan mendoakan atas per...</td>\n",
       "      <td>[hanya, bisa, ikut, bahagia, dan, mendoakan, a...</td>\n",
       "      <td>[bahagia, mendoakan, pernikahan, kaesang, n, e...</td>\n",
       "      <td>bahagia doa nikah kaesang n erina moga keluarg...</td>\n",
       "    </tr>\n",
       "  </tbody>\n",
       "</table>\n",
       "</div>"
      ],
      "text/plain": [
       "                                           komen_new  \\\n",
       "0  Selamat Raden kaisang sama mbak Erina.. semuga...   \n",
       "1  Hanya bisa ikut bahagia dan mendoakan atas per...   \n",
       "\n",
       "                                     komen_new_clean  \\\n",
       "0  selamat raden kaisang sama mbak erina semuga c...   \n",
       "1  hanya bisa ikut bahagia dan mendoakan atas per...   \n",
       "\n",
       "                           komen_new_clean_tokenized  \\\n",
       "0  [selamat, raden, kaisang, sama, mbak, erina, s...   \n",
       "1  [hanya, bisa, ikut, bahagia, dan, mendoakan, a...   \n",
       "\n",
       "                  komen_new_clean_tokenized_stopword  \\\n",
       "0  [selamat, raden, kaisang, mbak, erina, semuga,...   \n",
       "1  [bahagia, mendoakan, pernikahan, kaesang, n, e...   \n",
       "\n",
       "       komen_new_clean_tokenized_stopword_lemmatized  \n",
       "0  selamat raden kaisang mbak erina semuga cepat ...  \n",
       "1  bahagia doa nikah kaesang n erina moga keluarg...  "
      ]
     },
     "execution_count": 22,
     "metadata": {},
     "output_type": "execute_result"
    }
   ],
   "source": []
  },
  {
   "cell_type": "code",
   "execution_count": 44,
   "id": "61a9c632",
   "metadata": {},
   "outputs": [],
   "source": [
    "import gensim, ast\n",
    "import logging, datetime\n",
    "logging.basicConfig()\n",
    "logging.getLogger().setLevel(logging.INFO)\n",
    "\n",
    "def multi_gram_funct(words, min_=15):\n",
    "    gram = gensim.models.Phrases(words, min_count=min_)\n",
    "    multi_gram = gensim.models.phrases.Phraser(gram)\n",
    "    return multi_gram\n",
    "\n",
    "def create_corpus(data):\n",
    "    multi_gram_mod = multi_gram_funct(data)\n",
    "    multi_gram = [multi_gram_mod[word] for word in data]\n",
    "    id2word = gensim.corpora.Dictionary(multi_gram)\n",
    "    \n",
    "    id2word.filter_extremes(no_below=5, no_above=0.35)\n",
    "    id2word.compactify()\n",
    "    \n",
    "    corpus = [id2word.doc2bow(text) for text in multi_gram]\n",
    "    \n",
    "    return corpus, id2word, multi_gram"
   ]
  },
  {
   "cell_type": "code",
   "execution_count": 45,
   "id": "b54449ad",
   "metadata": {},
   "outputs": [
    {
     "name": "stderr",
     "output_type": "stream",
     "text": [
      "INFO:gensim.models.phrases:collecting all words and their counts\n",
      "INFO:gensim.models.phrases:PROGRESS: at sentence #0, processed 0 words and 0 word types\n",
      "INFO:gensim.models.phrases:collected 8033 token types (unigram + bigrams) from a corpus of 6852 words and 20 sentences\n",
      "INFO:gensim.models.phrases:merged Phrases<8033 vocab, min_count=15, threshold=10.0, max_vocab_size=40000000>\n",
      "INFO:gensim.utils:Phrases lifecycle event {'msg': 'built Phrases<8033 vocab, min_count=15, threshold=10.0, max_vocab_size=40000000> in 0.01s', 'datetime': '2023-01-04T23:26:47.221257', 'gensim': '4.1.2', 'python': '3.8.12 (default, Oct 12 2021, 03:01:40) [MSC v.1916 64 bit (AMD64)]', 'platform': 'Windows-10-10.0.19045-SP0', 'event': 'created'}\n",
      "INFO:gensim.models.phrases:exporting phrases from Phrases<8033 vocab, min_count=15, threshold=10.0, max_vocab_size=40000000>\n",
      "INFO:gensim.utils:FrozenPhrases lifecycle event {'msg': 'exported FrozenPhrases<6 phrases, min_count=15, threshold=10.0> from Phrases<8033 vocab, min_count=15, threshold=10.0, max_vocab_size=40000000> in 0.02s', 'datetime': '2023-01-04T23:26:47.238214', 'gensim': '4.1.2', 'python': '3.8.12 (default, Oct 12 2021, 03:01:40) [MSC v.1916 64 bit (AMD64)]', 'platform': 'Windows-10-10.0.19045-SP0', 'event': 'created'}\n",
      "INFO:gensim.corpora.dictionary:adding document #0 to Dictionary(0 unique tokens: [])\n",
      "INFO:gensim.corpora.dictionary:built Dictionary(2403 unique tokens: ['1iblis', '300', 'aamiiin3', 'aamiin', 'acrara']...) from 20 documents (total 6640 corpus positions)\n",
      "INFO:gensim.utils:Dictionary lifecycle event {'msg': \"built Dictionary(2403 unique tokens: ['1iblis', '300', 'aamiiin3', 'aamiin', 'acrara']...) from 20 documents (total 6640 corpus positions)\", 'datetime': '2023-01-04T23:26:47.256731', 'gensim': '4.1.2', 'python': '3.8.12 (default, Oct 12 2021, 03:01:40) [MSC v.1916 64 bit (AMD64)]', 'platform': 'Windows-10-10.0.19045-SP0', 'event': 'created'}\n",
      "INFO:gensim.corpora.dictionary:discarding 2310 tokens: [('1iblis', 1), ('300', 1), ('aamiiin3', 1), ('acrara', 1), ('adat', 9), ('aja', 9), ('ak', 1), ('akad', 4), ('alamindengan', 1), ('alaminselamat', 1)]...\n",
      "INFO:gensim.corpora.dictionary:keeping 93 tokens which were in no less than 5 and no more than 7 (=35.0%) documents\n",
      "INFO:gensim.corpora.dictionary:resulting dictionary: Dictionary(93 unique tokens: ['aamiin', 'akhirat', 'alhamdulillah', 'amin', 'berkah']...)\n"
     ]
    }
   ],
   "source": [
    "# %%time\n",
    "train_corpus, train_id2word, train_multigram = create_corpus(df['komen_new_clean_tokenized_stopword_lemmatized'].str.split(' '))"
   ]
  },
  {
   "cell_type": "code",
   "execution_count": 46,
   "id": "81238e7d",
   "metadata": {},
   "outputs": [
    {
     "name": "stderr",
     "output_type": "stream",
     "text": [
      "INFO:gensim.models.ldamodel:using symmetric alpha at 0.5\n",
      "INFO:gensim.models.ldamodel:using symmetric eta at 0.5\n",
      "INFO:gensim.models.ldamodel:using serial LDA version on this node\n",
      "INFO:gensim.models.ldamulticore:running online LDA training, 2 topics, 1 passes over the supplied corpus of 20 documents, updating every 6000 documents, evaluating every ~20 documents, iterating 50x with a convergence threshold of 0.001000\n",
      "WARNING:gensim.models.ldamulticore:too few updates, training might not converge; consider increasing the number of passes or iterations to improve accuracy\n",
      "INFO:gensim.models.ldamulticore:training LDA model using 6 processes\n"
     ]
    },
    {
     "name": "stdout",
     "output_type": "stream",
     "text": [
      "----------- TRAINING TOPIC 5 -----------\n"
     ]
    },
    {
     "name": "stderr",
     "output_type": "stream",
     "text": [
      "INFO:gensim.models.ldamulticore:PROGRESS: pass 0, dispatched chunk #0 = documents up to #20/20, outstanding queue size 1\n",
      "INFO:gensim.models.ldamodel:topic #0 (0.500): 0.040*\"jawa\" + 0.032*\"tempuh_hidup\" + 0.028*\"budaya\" + 0.023*\"nonton\" + 0.023*\"aamiin\" + 0.021*\"rakyat\" + 0.021*\"erina_moga\" + 0.018*\"solo\" + 0.018*\"neng\" + 0.016*\"warohmah\"\n",
      "INFO:gensim.models.ldamodel:topic #1 (0.500): 0.032*\"lucu\" + 0.023*\"bikin\" + 0.021*\"ngakak\" + 0.020*\"tempuh_hidup\" + 0.020*\"neng\" + 0.020*\"undang\" + 0.020*\"jawa\" + 0.019*\"nonton\" + 0.018*\"ga\" + 0.017*\"keren\"\n",
      "INFO:gensim.models.ldamodel:topic diff=0.347486, rho=1.000000\n",
      "INFO:gensim.models.ldamodel:-4.644 per-word bound, 25.0 perplexity estimate based on a held-out corpus of 20 documents with 1026 words\n",
      "INFO:gensim.utils:LdaMulticore lifecycle event {'msg': 'trained LdaModel(num_terms=93, num_topics=2, decay=0.5, chunksize=1000) in 2.09s', 'datetime': '2023-01-04T23:26:49.789388', 'gensim': '4.1.2', 'python': '3.8.12 (default, Oct 12 2021, 03:01:40) [MSC v.1916 64 bit (AMD64)]', 'platform': 'Windows-10-10.0.19045-SP0', 'event': 'created'}\n",
      "INFO:gensim.utils:LdaState lifecycle event {'fname_or_handle': 'LDA-5.model.state', 'separately': 'None', 'sep_limit': 10485760, 'ignore': frozenset(), 'datetime': '2023-01-04T23:26:49.790385', 'gensim': '4.1.2', 'python': '3.8.12 (default, Oct 12 2021, 03:01:40) [MSC v.1916 64 bit (AMD64)]', 'platform': 'Windows-10-10.0.19045-SP0', 'event': 'saving'}\n",
      "INFO:gensim.utils:saved LDA-5.model.state\n",
      "INFO:gensim.utils:LdaMulticore lifecycle event {'fname_or_handle': 'LDA-5.model', 'separately': \"['expElogbeta', 'sstats']\", 'sep_limit': 10485760, 'ignore': ['dispatcher', 'id2word', 'state'], 'datetime': '2023-01-04T23:26:49.793158', 'gensim': '4.1.2', 'python': '3.8.12 (default, Oct 12 2021, 03:01:40) [MSC v.1916 64 bit (AMD64)]', 'platform': 'Windows-10-10.0.19045-SP0', 'event': 'saving'}\n",
      "INFO:gensim.utils:storing np array 'expElogbeta' to LDA-5.model.expElogbeta.npy\n",
      "INFO:gensim.utils:not storing attribute dispatcher\n",
      "INFO:gensim.utils:not storing attribute id2word\n",
      "INFO:gensim.utils:not storing attribute state\n",
      "INFO:gensim.utils:saved LDA-5.model\n"
     ]
    },
    {
     "name": "stdout",
     "output_type": "stream",
     "text": [
      "Training Finished, Training Took 0:00:02.110000\n",
      "\n",
      "\n"
     ]
    }
   ],
   "source": [
    "start = time.time()\n",
    "print(f'----------- TRAINING TOPIC {5} -----------')\n",
    "lda = gensim.models.ldamulticore.LdaMulticore(corpus=train_corpus,\n",
    "                                              num_topics=2,\n",
    "                                              id2word=train_id2word,\n",
    "                                              chunksize=1000,\n",
    "                                              workers=6,\n",
    "                                              per_word_topics=True)\n",
    "lda.save(f'LDA-{5}.model')\n",
    "end = time.time()\n",
    "delta = round((end-start), 2)\n",
    "delta = str(datetime.timedelta(seconds=delta))\n",
    "print(f'Training Finished, Training Took {delta}\\n\\n')"
   ]
  },
  {
   "cell_type": "code",
   "execution_count": 49,
   "id": "1270b7ce",
   "metadata": {},
   "outputs": [
    {
     "name": "stderr",
     "output_type": "stream",
     "text": [
      "INFO:gensim.models.ldamodel:topic #0 (0.500): 0.040*\"jawa\" + 0.032*\"tempuh_hidup\" + 0.028*\"budaya\" + 0.023*\"nonton\" + 0.023*\"aamiin\" + 0.021*\"rakyat\" + 0.021*\"erina_moga\" + 0.018*\"solo\" + 0.018*\"neng\" + 0.016*\"warohmah\"\n",
      "INFO:gensim.models.ldamodel:topic #1 (0.500): 0.032*\"lucu\" + 0.023*\"bikin\" + 0.021*\"ngakak\" + 0.020*\"tempuh_hidup\" + 0.020*\"neng\" + 0.020*\"undang\" + 0.020*\"jawa\" + 0.019*\"nonton\" + 0.018*\"ga\" + 0.017*\"keren\"\n"
     ]
    },
    {
     "data": {
      "text/plain": [
       "[(0,\n",
       "  '0.040*\"jawa\" + 0.032*\"tempuh_hidup\" + 0.028*\"budaya\" + 0.023*\"nonton\" + 0.023*\"aamiin\" + 0.021*\"rakyat\" + 0.021*\"erina_moga\" + 0.018*\"solo\" + 0.018*\"neng\" + 0.016*\"warohmah\"'),\n",
       " (1,\n",
       "  '0.032*\"lucu\" + 0.023*\"bikin\" + 0.021*\"ngakak\" + 0.020*\"tempuh_hidup\" + 0.020*\"neng\" + 0.020*\"undang\" + 0.020*\"jawa\" + 0.019*\"nonton\" + 0.018*\"ga\" + 0.017*\"keren\"')]"
      ]
     },
     "execution_count": 49,
     "metadata": {},
     "output_type": "execute_result"
    }
   ],
   "source": [
    "lda.print_topics()"
   ]
  },
  {
   "cell_type": "code",
   "execution_count": 47,
   "id": "bedc8ac6",
   "metadata": {},
   "outputs": [],
   "source": [
    "# !pip install pyLDAvis\n",
    "import pyLDAvis, os, gensim, pickle\n",
    "from ast import literal_eval\n",
    "import pyLDAvis.gensim_models as gensimvis\n",
    "from gensim.models.coherencemodel import CoherenceModel\n",
    "import pandas as pd\n",
    "import numpy as np\n",
    "from tqdm import tqdm\n",
    "\n",
    "pyLDAvis.enable_notebook()"
   ]
  },
  {
   "cell_type": "code",
   "execution_count": 48,
   "id": "f7bb11ac",
   "metadata": {
    "scrolled": false
   },
   "outputs": [
    {
     "name": "stderr",
     "output_type": "stream",
     "text": [
      "C:\\Users\\Zhafran\\.conda\\envs\\ExVodka\\lib\\site-packages\\pyLDAvis\\_prepare.py:246: FutureWarning: In a future version of pandas all arguments of DataFrame.drop except for the argument 'labels' will be keyword-only\n",
      "  default_term_info = default_term_info.sort_values(\n"
     ]
    },
    {
     "data": {
      "text/html": [
       "\n",
       "<link rel=\"stylesheet\" type=\"text/css\" href=\"https://cdn.jsdelivr.net/gh/bmabey/pyLDAvis@3.3.1/pyLDAvis/js/ldavis.v1.0.0.css\">\n",
       "\n",
       "\n",
       "<div id=\"ldavis_el2464418112499297923775021053\"></div>\n",
       "<script type=\"text/javascript\">\n",
       "\n",
       "var ldavis_el2464418112499297923775021053_data = {\"mdsDat\": {\"x\": [0.009211665125670577, -0.009211665125670577], \"y\": [0.0, 0.0], \"topics\": [1, 2], \"cluster\": [1, 1], \"Freq\": [56.92996349829528, 43.07003650170472]}, \"tinfo\": {\"Term\": [\"lucu\", \"nahyan\", \"bikin\", \"ga\", \"sampe\", \"sm\", \"cucu\", \"ngakak\", \"keren\", \"jawa\", \"dlm\", \"budaya\", \"ma\", \"undang\", \"jg\", \"masyaallah\", \"bu\", \"mb\", \"momen\", \"de\", \"sih\", \"akhirat\", \"tp\", \"lindung\", \"bawa\", \"neng\", \"erina_moga\", \"hati\", \"sang\", \"tuhan\", \"budaya\", \"jawa\", \"erina_moga\", \"aamiin\", \"mempelai\", \"tempuh_hidup\", \"amin\", \"smg\", \"mawaddah\", \"doa\", \"rakyat\", \"berkah\", \"lancar\", \"jd\", \"solo\", \"warahmah\", \"senang\", \"utk\", \"masyarakat\", \"kagum\", \"sllu\", \"warga\", \"momong\", \"warohmah\", \"dn\", \"nonton\", \"gk\", \"pasang\", \"sakinah\", \"sukses\", \"mbak\", \"gak\", \"neng\", \"tuhan\", \"masya\", \"kluarga\", \"undang\", \"ngakak\", \"udah\", \"lucu\", \"keren\", \"nahyan\", \"lucu\", \"bikin\", \"sampe\", \"ga\", \"ma\", \"cucu\", \"de\", \"sm\", \"sih\", \"masyaallah\", \"dlm\", \"jg\", \"lindung\", \"bu\", \"tuh\", \"tp\", \"momen\", \"mb\", \"bawa\", \"keren\", \"akhirat\", \"sang\", \"ngakak\", \"hati\", \"ku\", \"org\", \"undang\", \"alhamdulillah\", \"baik\", \"neng\", \"tuhan\", \"sayang\", \"udah\", \"alloh\", \"masya\", \"nonton\", \"kluarga\", \"tempuh_hidup\", \"warohmah\", \"mbak\", \"jawa\", \"rakyat\", \"aamiin\", \"solo\", \"budaya\", \"rumah\"], \"Freq\": [23.0, 10.0, 16.0, 13.0, 9.0, 14.0, 12.0, 18.0, 14.0, 31.0, 11.0, 22.0, 7.0, 17.0, 10.0, 8.0, 9.0, 10.0, 9.0, 6.0, 6.0, 8.0, 7.0, 6.0, 7.0, 19.0, 16.0, 8.0, 6.0, 16.0, 16.37167664118217, 23.159689103373896, 12.149440113831709, 13.364354205938803, 4.854214868090162, 18.80998775614454, 7.279309822828913, 5.426192548597518, 7.82989957283567, 6.020403515151367, 12.449789390622255, 7.689865937070103, 7.6739276667102825, 5.312028206902099, 10.603976771648435, 8.826935512692323, 6.452293161209379, 7.006852927158181, 8.754078267536125, 5.83594301833197, 6.34531270969355, 7.452474432962018, 3.38781103699392, 9.510621978309404, 6.712033276573565, 13.3898454291567, 4.459750156503625, 6.679315732202731, 6.117181493524822, 3.2965969559971757, 8.191941852910864, 6.562165446754793, 10.586819426785173, 9.075020710057288, 7.743472032024463, 7.26762389757994, 8.96739835407289, 9.213802088122309, 7.553549363367018, 8.765347498867365, 7.303187037099147, 7.509945900028139, 14.257638433588872, 9.996547326813845, 5.832799345367518, 8.094088608223567, 4.2856886339796105, 6.7798786333145955, 3.573484699957723, 7.647475247773832, 3.5683543162384694, 4.566015170928274, 5.978246094203456, 5.409847647163473, 3.4335027193085423, 4.88501424897519, 2.9120329202007547, 3.8479100198238925, 4.806145608257213, 5.27250102766833, 3.832077275393971, 7.650695215864594, 4.293719622901278, 3.337010473840227, 9.455552355654675, 4.146138163624801, 2.7565488756381304, 2.756005423712792, 8.710501783946196, 4.059296974101324, 3.5519515749008663, 8.769262909201691, 7.515767687938661, 4.3851763469515825, 6.274493447306405, 4.762308113230144, 6.0332267201131256, 8.382310322556327, 5.579667628391945, 8.902598561287252, 5.904229217777657, 5.463459868944591, 8.666868417775596, 6.402392522388008, 6.298525916204673, 5.573258970019074, 5.652032131110637, 4.790349491787425], \"Total\": [23.0, 10.0, 16.0, 13.0, 9.0, 14.0, 12.0, 18.0, 14.0, 31.0, 11.0, 22.0, 7.0, 17.0, 10.0, 8.0, 9.0, 10.0, 9.0, 6.0, 6.0, 8.0, 7.0, 6.0, 7.0, 19.0, 16.0, 8.0, 6.0, 16.0, 22.023708772292807, 31.826557521149493, 16.817322168940123, 19.662880122143477, 7.151665599024806, 27.712586317431793, 10.728034957748537, 8.055028575580563, 11.637175192168588, 8.95239743897407, 18.852181913010263, 11.675065370923313, 11.679369192913203, 8.085907663609508, 16.17723574166751, 13.483639043608344, 9.89363817371239, 10.801700556153058, 13.503355057961326, 9.002268432604412, 9.922586139999375, 11.739252851643103, 5.43212346615117, 15.41485119608706, 10.881442129835897, 21.77215575171303, 7.258339699371755, 10.890290323863681, 9.984270571754351, 5.456801485664457, 13.655401721855455, 10.921983721891397, 19.356082335986862, 16.59078839799595, 13.776698752137587, 12.847291525971885, 17.677900138019083, 18.66935444377698, 13.828042810673423, 23.022985932456237, 14.95388225296374, 10.759809218785922, 23.022985932456237, 16.286063306557335, 9.569942681965557, 13.38262474353657, 7.57493741577219, 12.270012482797263, 6.590492548854165, 14.12034416713502, 6.5894015393987715, 8.467430292828976, 11.26652655570271, 10.31272757776053, 6.560690206313739, 9.368173247081728, 5.616857874631222, 7.481723600574376, 9.351365344750732, 10.283472230903943, 7.478366106295032, 14.95388225296374, 8.409463926922808, 6.540152939049303, 18.66935444377698, 8.378038889141664, 5.583755908928788, 5.583648462453922, 17.677900138019083, 8.35954556588269, 7.418711199321178, 19.356082335986862, 16.59078839799595, 9.261759953810843, 13.828042810673423, 10.174857471936392, 13.776698752137587, 21.77215575171303, 12.847291525971885, 27.712586317431793, 15.41485119608706, 13.655401721855455, 31.826557521149493, 18.852181913010263, 19.662880122143477, 16.17723574166751, 22.023708772292807, 11.013648129716536], \"Category\": [\"Default\", \"Default\", \"Default\", \"Default\", \"Default\", \"Default\", \"Default\", \"Default\", \"Default\", \"Default\", \"Default\", \"Default\", \"Default\", \"Default\", \"Default\", \"Default\", \"Default\", \"Default\", \"Default\", \"Default\", \"Default\", \"Default\", \"Default\", \"Default\", \"Default\", \"Default\", \"Default\", \"Default\", \"Default\", \"Default\", \"Topic1\", \"Topic1\", \"Topic1\", \"Topic1\", \"Topic1\", \"Topic1\", \"Topic1\", \"Topic1\", \"Topic1\", \"Topic1\", \"Topic1\", \"Topic1\", \"Topic1\", \"Topic1\", \"Topic1\", \"Topic1\", \"Topic1\", \"Topic1\", \"Topic1\", \"Topic1\", \"Topic1\", \"Topic1\", \"Topic1\", \"Topic1\", \"Topic1\", \"Topic1\", \"Topic1\", \"Topic1\", \"Topic1\", \"Topic1\", \"Topic1\", \"Topic1\", \"Topic1\", \"Topic1\", \"Topic1\", \"Topic1\", \"Topic1\", \"Topic1\", \"Topic1\", \"Topic1\", \"Topic1\", \"Topic2\", \"Topic2\", \"Topic2\", \"Topic2\", \"Topic2\", \"Topic2\", \"Topic2\", \"Topic2\", \"Topic2\", \"Topic2\", \"Topic2\", \"Topic2\", \"Topic2\", \"Topic2\", \"Topic2\", \"Topic2\", \"Topic2\", \"Topic2\", \"Topic2\", \"Topic2\", \"Topic2\", \"Topic2\", \"Topic2\", \"Topic2\", \"Topic2\", \"Topic2\", \"Topic2\", \"Topic2\", \"Topic2\", \"Topic2\", \"Topic2\", \"Topic2\", \"Topic2\", \"Topic2\", \"Topic2\", \"Topic2\", \"Topic2\", \"Topic2\", \"Topic2\", \"Topic2\", \"Topic2\", \"Topic2\", \"Topic2\", \"Topic2\", \"Topic2\", \"Topic2\", \"Topic2\"], \"logprob\": [30.0, 29.0, 28.0, 27.0, 26.0, 25.0, 24.0, 23.0, 22.0, 21.0, 20.0, 19.0, 18.0, 17.0, 16.0, 15.0, 14.0, 13.0, 12.0, 11.0, 10.0, 9.0, 8.0, 7.0, 6.0, 5.0, 4.0, 3.0, 2.0, 1.0, -3.5745, -3.2277, -3.8728, -3.7775, -4.7902, -3.4357, -4.385, -4.6788, -4.3121, -4.5749, -3.8484, -4.3302, -4.3322, -4.7001, -4.0088, -4.1923, -4.5056, -4.4232, -4.2006, -4.606, -4.5224, -4.3615, -5.1499, -4.1177, -4.4662, -3.7756, -4.875, -4.4711, -4.559, -5.1772, -4.2669, -4.4888, -4.0105, -4.1645, -4.3232, -4.3866, -4.1765, -4.1494, -4.3481, -4.1993, -4.3818, -4.0749, -3.4338, -3.7888, -4.3276, -3.9999, -4.6358, -4.1771, -4.8175, -4.0567, -4.819, -4.5724, -4.303, -4.4029, -4.8575, -4.5049, -5.0222, -4.7436, -4.5212, -4.4286, -4.7477, -4.0563, -4.6339, -4.886, -3.8445, -4.6689, -5.0771, -5.0773, -3.9266, -4.6901, -4.8236, -3.9198, -4.0741, -4.6129, -4.2546, -4.5303, -4.2938, -3.965, -4.372, -3.9047, -4.3154, -4.393, -3.9316, -4.2344, -4.2508, -4.3731, -4.3591, -4.5245], \"loglift\": [30.0, 29.0, 28.0, 27.0, 26.0, 25.0, 24.0, 23.0, 22.0, 21.0, 20.0, 19.0, 18.0, 17.0, 16.0, 15.0, 14.0, 13.0, 12.0, 11.0, 10.0, 9.0, 8.0, 7.0, 6.0, 5.0, 4.0, 3.0, 2.0, 1.0, 0.2668, 0.2455, 0.2382, 0.1772, 0.1759, 0.1758, 0.1755, 0.1683, 0.1671, 0.1666, 0.1484, 0.1458, 0.1434, 0.1432, 0.141, 0.1397, 0.1359, 0.1305, 0.1299, 0.1299, 0.1163, 0.109, 0.0912, 0.0804, 0.0802, 0.0772, 0.0763, 0.0745, 0.0734, 0.0594, 0.0524, 0.0539, -0.04, -0.04, -0.0128, -0.0064, -0.1154, -0.1428, -0.0413, -0.4023, -0.1533, 0.4828, 0.3631, 0.3543, 0.3472, 0.3395, 0.2728, 0.2491, 0.2303, 0.2291, 0.229, 0.2248, 0.2086, 0.1972, 0.1948, 0.1912, 0.1854, 0.1774, 0.1767, 0.1743, 0.1737, 0.1722, 0.1701, 0.1695, 0.1621, 0.1389, 0.1365, 0.1363, 0.1346, 0.1199, 0.1058, 0.0506, 0.0505, 0.0947, 0.0521, 0.0832, 0.0166, -0.1122, 0.0083, -0.2932, -0.1173, -0.0737, -0.4585, -0.2376, -0.2961, -0.2233, -0.5178, 0.0098]}, \"token.table\": {\"Topic\": [1, 2, 1, 2, 1, 2, 1, 2, 1, 2, 1, 2, 1, 2, 1, 2, 1, 2, 1, 2, 1, 2, 1, 2, 1, 2, 1, 2, 1, 2, 1, 2, 1, 2, 1, 2, 1, 2, 1, 2, 1, 2, 1, 2, 1, 2, 1, 2, 1, 2, 1, 2, 1, 2, 1, 2, 1, 2, 1, 2, 1, 2, 1, 2, 1, 2, 1, 2, 1, 2, 1, 2, 1, 2, 1, 2, 1, 2, 1, 2, 1, 2, 1, 2, 1, 2, 1, 2, 1, 2, 1, 2, 1, 2, 1, 2, 1, 2, 1, 2, 1, 2, 1, 2, 1, 2, 1, 2, 1, 2, 1, 2, 1, 2, 1, 2, 1, 2, 1, 2, 1, 2, 1, 2, 1, 2, 1, 2, 1, 2, 1, 2, 1, 2, 1, 2, 1, 2, 1, 2], \"Freq\": [0.6611442433278107, 0.30514349692052806, 0.4756545761726908, 0.4756545761726908, 0.47849490961864705, 0.47849490961864705, 0.4914073748738657, 0.4914073748738657, 0.6524960095272723, 0.27964114694025954, 0.539177209158109, 0.539177209158109, 0.5348761939634029, 0.5348761939634029, 0.6852210026955358, 0.3426105013477679, 0.36841315713074696, 0.6140219285512449, 0.4269775861848025, 0.5337219827310031, 0.7264898099328754, 0.27243367872482827, 0.4074975479454543, 0.570496567123636, 0.45520118227302836, 0.6069349096973712, 0.4437925012007521, 0.5325510014409025, 0.6432970847500677, 0.36759833414289583, 0.6702115317042481, 0.33510576585212404, 0.7135499861067521, 0.29731249421114675, 0.3736187852397833, 0.5977900563836532, 0.6409092137694365, 0.36623383643967805, 0.5510902170018607, 0.4133176627513955, 0.4774387005035498, 0.4774387005035498, 0.7226669106363753, 0.2827827041620599, 0.6183597696152797, 0.37101586176916784, 0.4848377853772202, 0.4848377853772202, 0.6664986769633754, 0.3332493384816877, 0.46810586586052966, 0.534978132412034, 0.5448619256322556, 0.4670245076847905, 0.5372727692488859, 0.5372727692488859, 0.684968500255496, 0.342484250127748, 0.45726896190174066, 0.45726896190174066, 0.3909136732482824, 0.6080879361639948, 0.3960428760445646, 0.5280571680594195, 0.5806906388773815, 0.43551797915803614, 0.47239833829958777, 0.5904979228744848, 0.6665010259575281, 0.3702783477541823, 0.6874520549784041, 0.34372602748920206, 0.4862170955228502, 0.4862170955228502, 0.5858487478399123, 0.36615546739994514, 0.6991378345041461, 0.27965513380165846, 0.5346812808256588, 0.5346812808256588, 0.5522702160018454, 0.3681801440012303, 0.2788153524843356, 0.7435076066248948, 0.5682968179748223, 0.4649701237975819, 0.4820734443230817, 0.4820734443230817, 0.5970929175893464, 0.3674417954395977, 0.5372831080202977, 0.5372831080202977, 0.6427744157252664, 0.36729966612872367, 0.6365310952001032, 0.3182655476000516, 0.5447786173421563, 0.45398218111846356, 0.6009452525229123, 0.40063016834860815, 0.417975335164541, 0.6269630027468115, 0.45870486943629324, 0.45870486943629324, 0.5398541988709932, 0.4318833590967946, 0.6064503163196456, 0.3032251581598228, 0.4552765500876921, 0.6070354001169228, 0.6046810695664445, 0.40312071304429636, 0.4249188213106695, 0.566558428414226, 0.6207302622312084, 0.37243815733872504, 0.6799678372533964, 0.37089154759276166, 0.5497726109115916, 0.36651507394106103, 0.6856090507889048, 0.32476218195263906, 0.534636163208825, 0.534636163208825, 0.5341064465151643, 0.5341064465151643, 0.5424696996971606, 0.48219528861969835, 0.5785345120442538, 0.4339008840331903, 0.5091102410203175, 0.5091102410203175, 0.6480461075189253, 0.3703120614393859, 0.667475595489652, 0.37081977527202886, 0.5962900781219849, 0.3407371874982771, 0.6487250426743284, 0.38923502560459705], \"Term\": [\"aamiin\", \"aamiin\", \"akhirat\", \"akhirat\", \"alhamdulillah\", \"alhamdulillah\", \"alloh\", \"alloh\", \"amin\", \"amin\", \"baik\", \"baik\", \"bawa\", \"bawa\", \"berkah\", \"berkah\", \"bikin\", \"bikin\", \"bu\", \"bu\", \"budaya\", \"budaya\", \"cucu\", \"cucu\", \"de\", \"de\", \"dlm\", \"dlm\", \"dn\", \"dn\", \"doa\", \"doa\", \"erina_moga\", \"erina_moga\", \"ga\", \"ga\", \"gak\", \"gak\", \"gk\", \"gk\", \"hati\", \"hati\", \"jawa\", \"jawa\", \"jd\", \"jd\", \"jg\", \"jg\", \"kagum\", \"kagum\", \"keren\", \"keren\", \"kluarga\", \"kluarga\", \"ku\", \"ku\", \"lancar\", \"lancar\", \"lindung\", \"lindung\", \"lucu\", \"lucu\", \"ma\", \"ma\", \"masya\", \"masya\", \"masyaallah\", \"masyaallah\", \"masyarakat\", \"masyarakat\", \"mawaddah\", \"mawaddah\", \"mb\", \"mb\", \"mbak\", \"mbak\", \"mempelai\", \"mempelai\", \"momen\", \"momen\", \"momong\", \"momong\", \"nahyan\", \"nahyan\", \"neng\", \"neng\", \"ngakak\", \"ngakak\", \"nonton\", \"nonton\", \"org\", \"org\", \"pasang\", \"pasang\", \"rakyat\", \"rakyat\", \"rumah\", \"rumah\", \"sakinah\", \"sakinah\", \"sampe\", \"sampe\", \"sang\", \"sang\", \"sayang\", \"sayang\", \"senang\", \"senang\", \"sih\", \"sih\", \"sllu\", \"sllu\", \"sm\", \"sm\", \"smg\", \"smg\", \"solo\", \"solo\", \"sukses\", \"sukses\", \"tempuh_hidup\", \"tempuh_hidup\", \"tp\", \"tp\", \"tuh\", \"tuh\", \"tuhan\", \"tuhan\", \"udah\", \"udah\", \"undang\", \"undang\", \"utk\", \"utk\", \"warahmah\", \"warahmah\", \"warga\", \"warga\", \"warohmah\", \"warohmah\"]}, \"R\": 30, \"lambda.step\": 0.01, \"plot.opts\": {\"xlab\": \"PC1\", \"ylab\": \"PC2\"}, \"topic.order\": [1, 2]};\n",
       "\n",
       "function LDAvis_load_lib(url, callback){\n",
       "  var s = document.createElement('script');\n",
       "  s.src = url;\n",
       "  s.async = true;\n",
       "  s.onreadystatechange = s.onload = callback;\n",
       "  s.onerror = function(){console.warn(\"failed to load library \" + url);};\n",
       "  document.getElementsByTagName(\"head\")[0].appendChild(s);\n",
       "}\n",
       "\n",
       "if(typeof(LDAvis) !== \"undefined\"){\n",
       "   // already loaded: just create the visualization\n",
       "   !function(LDAvis){\n",
       "       new LDAvis(\"#\" + \"ldavis_el2464418112499297923775021053\", ldavis_el2464418112499297923775021053_data);\n",
       "   }(LDAvis);\n",
       "}else if(typeof define === \"function\" && define.amd){\n",
       "   // require.js is available: use it to load d3/LDAvis\n",
       "   require.config({paths: {d3: \"https://d3js.org/d3.v5\"}});\n",
       "   require([\"d3\"], function(d3){\n",
       "      window.d3 = d3;\n",
       "      LDAvis_load_lib(\"https://cdn.jsdelivr.net/gh/bmabey/pyLDAvis@3.3.1/pyLDAvis/js/ldavis.v3.0.0.js\", function(){\n",
       "        new LDAvis(\"#\" + \"ldavis_el2464418112499297923775021053\", ldavis_el2464418112499297923775021053_data);\n",
       "      });\n",
       "    });\n",
       "}else{\n",
       "    // require.js not available: dynamically load d3 & LDAvis\n",
       "    LDAvis_load_lib(\"https://d3js.org/d3.v5.js\", function(){\n",
       "         LDAvis_load_lib(\"https://cdn.jsdelivr.net/gh/bmabey/pyLDAvis@3.3.1/pyLDAvis/js/ldavis.v3.0.0.js\", function(){\n",
       "                 new LDAvis(\"#\" + \"ldavis_el2464418112499297923775021053\", ldavis_el2464418112499297923775021053_data);\n",
       "            })\n",
       "         });\n",
       "}\n",
       "</script>"
      ],
      "text/plain": [
       "<IPython.core.display.HTML object>"
      ]
     },
     "execution_count": 48,
     "metadata": {},
     "output_type": "execute_result"
    }
   ],
   "source": [
    "lda_display = gensimvis.prepare(lda, train_corpus,\n",
    "                                train_id2word, sort_topics=False)\n",
    "pyLDAvis.display(lda_display)"
   ]
  },
  {
   "cell_type": "code",
   "execution_count": null,
   "id": "3864e7ac",
   "metadata": {},
   "outputs": [],
   "source": []
  },
  {
   "cell_type": "code",
   "execution_count": null,
   "id": "03c8ca42",
   "metadata": {},
   "outputs": [],
   "source": []
  },
  {
   "cell_type": "code",
   "execution_count": null,
   "id": "45fdf614",
   "metadata": {},
   "outputs": [],
   "source": []
  },
  {
   "cell_type": "code",
   "execution_count": null,
   "id": "5053603d",
   "metadata": {},
   "outputs": [],
   "source": []
  },
  {
   "cell_type": "code",
   "execution_count": null,
   "id": "3c4c44a1",
   "metadata": {},
   "outputs": [],
   "source": []
  },
  {
   "cell_type": "code",
   "execution_count": null,
   "id": "dd2f8d00",
   "metadata": {},
   "outputs": [],
   "source": []
  },
  {
   "cell_type": "code",
   "execution_count": null,
   "id": "44279a67",
   "metadata": {},
   "outputs": [],
   "source": []
  },
  {
   "cell_type": "code",
   "execution_count": null,
   "id": "519fa694",
   "metadata": {},
   "outputs": [],
   "source": []
  },
  {
   "cell_type": "code",
   "execution_count": null,
   "id": "c89147b9",
   "metadata": {},
   "outputs": [],
   "source": []
  }
 ],
 "metadata": {
  "kernelspec": {
   "display_name": "Python 3 (ipykernel)",
   "language": "python",
   "name": "python3"
  },
  "language_info": {
   "codemirror_mode": {
    "name": "ipython",
    "version": 3
   },
   "file_extension": ".py",
   "mimetype": "text/x-python",
   "name": "python",
   "nbconvert_exporter": "python",
   "pygments_lexer": "ipython3",
   "version": "3.8.12"
  }
 },
 "nbformat": 4,
 "nbformat_minor": 5
}
